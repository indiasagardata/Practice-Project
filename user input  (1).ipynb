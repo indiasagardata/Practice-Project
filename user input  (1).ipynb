{
 "cells": [
  {
   "cell_type": "markdown",
   "id": "407f44f1",
   "metadata": {},
   "source": [
    "# user input"
   ]
  },
  {
   "cell_type": "code",
   "execution_count": 1,
   "id": "54d53c58",
   "metadata": {},
   "outputs": [
    {
     "name": "stdout",
     "output_type": "stream",
     "text": [
      "10\n"
     ]
    },
    {
     "data": {
      "text/plain": [
       "'10'"
      ]
     },
     "execution_count": 1,
     "metadata": {},
     "output_type": "execute_result"
    }
   ],
   "source": [
    "input (\"\")"
   ]
  },
  {
   "cell_type": "code",
   "execution_count": 3,
   "id": "c03ee90b",
   "metadata": {},
   "outputs": [
    {
     "name": "stdout",
     "output_type": "stream",
     "text": [
      "enter your age 24\n"
     ]
    },
    {
     "data": {
      "text/plain": [
       "'24'"
      ]
     },
     "execution_count": 3,
     "metadata": {},
     "output_type": "execute_result"
    }
   ],
   "source": [
    "input ( \"enter your age \")"
   ]
  },
  {
   "cell_type": "code",
   "execution_count": 4,
   "id": "f9af9692",
   "metadata": {},
   "outputs": [
    {
     "name": "stdout",
     "output_type": "stream",
     "text": [
      "enter your age 10\n"
     ]
    }
   ],
   "source": [
    "x= input (\"enter your age \")"
   ]
  },
  {
   "cell_type": "code",
   "execution_count": 5,
   "id": "c1929240",
   "metadata": {},
   "outputs": [
    {
     "data": {
      "text/plain": [
       "'10'"
      ]
     },
     "execution_count": 5,
     "metadata": {},
     "output_type": "execute_result"
    }
   ],
   "source": [
    "x"
   ]
  },
  {
   "cell_type": "code",
   "execution_count": 6,
   "id": "b0e39232",
   "metadata": {},
   "outputs": [
    {
     "name": "stdout",
     "output_type": "stream",
     "text": [
      "enter your age 10\n"
     ]
    }
   ],
   "source": [
    "x= int(input(\"enter your age \"))"
   ]
  },
  {
   "cell_type": "code",
   "execution_count": null,
   "id": "ef6402ae",
   "metadata": {},
   "outputs": [],
   "source": [
    "type(x)"
   ]
  },
  {
   "cell_type": "code",
   "execution_count": null,
   "id": "493ddcca",
   "metadata": {},
   "outputs": [],
   "source": [
    "x= float (input(\"enter your age a\"))"
   ]
  },
  {
   "cell_type": "code",
   "execution_count": 1,
   "id": "65508db3",
   "metadata": {},
   "outputs": [
    {
     "name": "stdout",
     "output_type": "stream",
     "text": [
      "enter your age 10\n"
     ]
    }
   ],
   "source": [
    "x=int(input(\"enter your age \"))"
   ]
  },
  {
   "cell_type": "code",
   "execution_count": 2,
   "id": "07457a3d",
   "metadata": {},
   "outputs": [
    {
     "data": {
      "text/plain": [
       "int"
      ]
     },
     "execution_count": 2,
     "metadata": {},
     "output_type": "execute_result"
    }
   ],
   "source": [
    "type(x)"
   ]
  },
  {
   "cell_type": "code",
   "execution_count": 4,
   "id": "c16db04f",
   "metadata": {},
   "outputs": [
    {
     "name": "stdout",
     "output_type": "stream",
     "text": [
      "enter your age 10\n"
     ]
    }
   ],
   "source": [
    "x= float (input(\"enter your age \"))"
   ]
  },
  {
   "cell_type": "code",
   "execution_count": 5,
   "id": "a349d36f",
   "metadata": {},
   "outputs": [
    {
     "data": {
      "text/plain": [
       "float"
      ]
     },
     "execution_count": 5,
     "metadata": {},
     "output_type": "execute_result"
    }
   ],
   "source": [
    "type(x)"
   ]
  },
  {
   "cell_type": "code",
   "execution_count": 6,
   "id": "26332fe6",
   "metadata": {},
   "outputs": [
    {
     "name": "stdout",
     "output_type": "stream",
     "text": [
      "10.0\n"
     ]
    }
   ],
   "source": [
    "print (x)"
   ]
  },
  {
   "cell_type": "code",
   "execution_count": 7,
   "id": "b02b1565",
   "metadata": {},
   "outputs": [
    {
     "name": "stdout",
     "output_type": "stream",
     "text": [
      "10\n"
     ]
    }
   ],
   "source": [
    "print(10)"
   ]
  },
  {
   "cell_type": "code",
   "execution_count": 8,
   "id": "ce2ef919",
   "metadata": {},
   "outputs": [
    {
     "name": "stdout",
     "output_type": "stream",
     "text": [
      "x\n"
     ]
    }
   ],
   "source": [
    "print('x')"
   ]
  },
  {
   "cell_type": "code",
   "execution_count": 9,
   "id": "2cef2330",
   "metadata": {},
   "outputs": [
    {
     "name": "stdout",
     "output_type": "stream",
     "text": [
      "my age is 10.0\n"
     ]
    }
   ],
   "source": [
    "print(\"my age is\",x)"
   ]
  },
  {
   "cell_type": "markdown",
   "id": "fc317600",
   "metadata": {},
   "source": [
    "# formating print statement "
   ]
  },
  {
   "cell_type": "code",
   "execution_count": 14,
   "id": "e7ff0094",
   "metadata": {},
   "outputs": [
    {
     "name": "stdout",
     "output_type": "stream",
     "text": [
      "sam: enter your age 25\n"
     ]
    }
   ],
   "source": [
    "x= int (input(\"sam: enter your age \"))"
   ]
  },
  {
   "cell_type": "code",
   "execution_count": 13,
   "id": "7f116e1f",
   "metadata": {},
   "outputs": [
    {
     "data": {
      "text/plain": [
       "'25'"
      ]
     },
     "execution_count": 13,
     "metadata": {},
     "output_type": "execute_result"
    }
   ],
   "source": [
    "x"
   ]
  },
  {
   "cell_type": "code",
   "execution_count": 15,
   "id": "79e4e9ea",
   "metadata": {},
   "outputs": [],
   "source": [
    "y=x+30"
   ]
  },
  {
   "cell_type": "code",
   "execution_count": 16,
   "id": "506b20dd",
   "metadata": {},
   "outputs": [
    {
     "data": {
      "text/plain": [
       "55"
      ]
     },
     "execution_count": 16,
     "metadata": {},
     "output_type": "execute_result"
    }
   ],
   "source": [
    "y"
   ]
  },
  {
   "cell_type": "code",
   "execution_count": 17,
   "id": "838095e9",
   "metadata": {},
   "outputs": [
    {
     "name": "stdout",
     "output_type": "stream",
     "text": [
      " sam is 25 years old and his father is 55 years old.\n"
     ]
    }
   ],
   "source": [
    "print(\" sam is\",x,\"years old and his father is\",y,\"years old.\")"
   ]
  },
  {
   "cell_type": "code",
   "execution_count": null,
   "id": "4a772376",
   "metadata": {},
   "outputs": [],
   "source": []
  }
 ],
 "metadata": {
  "kernelspec": {
   "display_name": "Python 3",
   "language": "python",
   "name": "python3"
  },
  "language_info": {
   "codemirror_mode": {
    "name": "ipython",
    "version": 3
   },
   "file_extension": ".py",
   "mimetype": "text/x-python",
   "name": "python",
   "nbconvert_exporter": "python",
   "pygments_lexer": "ipython3",
   "version": "3.8.8"
  }
 },
 "nbformat": 4,
 "nbformat_minor": 5
}
